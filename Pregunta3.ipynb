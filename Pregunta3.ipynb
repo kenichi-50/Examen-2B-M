{
 "cells": [
  {
   "cell_type": "code",
   "execution_count": null,
   "id": "ef2a482e",
   "metadata": {},
   "outputs": [],
   "source": [
    "import numpy as np\n",
    "import matplotlib.pyplot as plt\n",
    "from scipy.optimize import bisect, newton\n",
    "\n",
    "# Definir la función\n",
    "def f(x):\n",
    "    return x**5 + 5.5*x**4 + 4.5*x**3 - 9.5*x**2 - 15.5*x - 6\n",
    "\n",
    "# Graficar para estimar intervalos de raíces\n",
    "x_vals = np.linspace(-6, 3, 1000)\n",
    "y_vals = f(x_vals)\n",
    "plt.plot(x_vals, y_vals)\n",
    "plt.axhline(0, color='k', linestyle='--')\n",
    "plt.grid()\n",
    "plt.title(\"Gráfica de la función\")\n",
    "plt.show()\n",
    "\n",
    "# Buscar cambios de signo para estimar intervalos\n",
    "roots = []\n",
    "intervals = []\n",
    "for i in range(len(x_vals)-1):\n",
    "    if np.sign(y_vals[i]) != np.sign(y_vals[i+1]):\n",
    "        intervals.append((x_vals[i], x_vals[i+1]))\n",
    "\n",
    "# Usar bisect para encontrar raíces en los intervalos detectados\n",
    "for a, b in intervals:\n",
    "    try:\n",
    "        root = bisect(f, a, b)\n",
    "        # Evitar raíces repetidas (por tolerancia numérica)\n",
    "        if not any(np.isclose(root, r, atol=1e-5) for r in roots):\n",
    "            roots.append(root)\n",
    "    except Exception:\n",
    "        pass\n",
    "\n",
    "# Ordenar y completar hasta 6 raíces (con NaN si faltan)\n",
    "roots = sorted(roots)\n",
    "while len(roots) < 6:\n",
    "    roots.append(np.nan)\n",
    "\n",
    "# Mostrar resultados\n",
    "for i, r in enumerate(roots, 1):\n",
    "    print(f\"x{i} = {r}\")"
   ]
  }
 ],
 "metadata": {
  "language_info": {
   "name": "python"
  }
 },
 "nbformat": 4,
 "nbformat_minor": 5
}
